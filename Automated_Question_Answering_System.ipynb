{
  "nbformat": 4,
  "nbformat_minor": 0,
  "metadata": {
    "colab": {
      "name": "Automated_Question_Answering_System.ipynb",
      "provenance": [],
      "authorship_tag": "ABX9TyOrrxmQuEYwR4dOPblxuCL7",
      "include_colab_link": true
    },
    "kernelspec": {
      "name": "python3",
      "display_name": "Python 3"
    },
    "language_info": {
      "name": "python"
    }
  },
  "cells": [
    {
      "cell_type": "markdown",
      "metadata": {
        "id": "view-in-github",
        "colab_type": "text"
      },
      "source": [
        "<a href=\"https://colab.research.google.com/github/chandusayhi/AutomatedQuestionAnseringSystem/blob/main/Automated_Question_Answering_System.ipynb\" target=\"_parent\"><img src=\"https://colab.research.google.com/assets/colab-badge.svg\" alt=\"Open In Colab\"/></a>"
      ]
    },
    {
      "cell_type": "markdown",
      "source": [
        "**Automated Question Answering System**"
      ],
      "metadata": {
        "id": "5rmNjaWBr3-k"
      }
    },
    {
      "cell_type": "markdown",
      "source": [
        "The Indian education landscape has been undergoing rapid changes for the past 10 years owing to\n",
        "the advancement of web-based learning services, specifically, eLearning platforms.\n",
        "Most online education institutes today treat all students in the same class/batch/cohort (referred to as\n",
        "“group” hereinafter) the same. Institutional uniformity works quite well for machines but humans are\n",
        "made up of different and often contradictory components!\n",
        "We believe that the model of allowing all students to learn at the same pace with the same level of\n",
        "interest is quite detrimental to the quality of education. This model is testing the capabilities of\n",
        "students by forcing them to work together in groups at the same pace, regardless of each individual's\n",
        "ability and the interests of the work."
      ],
      "metadata": {
        "id": "eCct5ovXsxFV"
      }
    },
    {
      "cell_type": "markdown",
      "source": [
        "**Problem Statement**\n",
        "\n",
        "We will solve the above-mentioned challenge by applying deep learning algorithms to textual data.\n",
        "The solution to this problem can be obtained through Extractive Question Answering wherein we can\n",
        "extract an answer from a text given the question."
      ],
      "metadata": {
        "id": "gt9Bc8D9s2-d"
      }
    },
    {
      "cell_type": "markdown",
      "source": [
        "# **Exploration and Pre-processing of Data**\n",
        "\n",
        "This involves following steps to transform raw data into quality data for the deep learning model "
      ],
      "metadata": {
        "id": "b1ZCkRmTb0g7"
      }
    },
    {
      "cell_type": "markdown",
      "source": [
        "## **1. Connection with the Data**\n",
        "\n",
        "Here, the dataset is the gist of my learning experiences in Almabetter stored in an excel file.\n",
        "\n",
        "At first, we import the libraries or functions for **making our journey easy** and then **get connected** to the set of experiences."
      ],
      "metadata": {
        "id": "aI1H31mBem8_"
      }
    },
    {
      "cell_type": "code",
      "source": [
        "# Importing libraries\n",
        "\n",
        "# Data handling\n",
        "import numpy as np\n",
        "import pandas as pd\n",
        "import re, gensim\n",
        "import ast\n",
        "\n",
        "# machine learning\n",
        "from sklearn.decomposition import LatentDirichletAllocation, TruncatedSVD\n",
        "from sklearn.feature_extraction.text import CountVectorizer, TfidfVectorizer\n",
        "from sklearn.model_selection import GridSearchCV\n",
        "from sklearn.metrics.pairwise import cosine_similarity\n",
        "\n",
        "# Plotting\n",
        "import matplotlib.pyplot as plt\n",
        "%matplotlib inline\n",
        "\n",
        "# Text processing\n",
        "import nltk\n",
        "nltk.download('stopwords')\n",
        "from nltk.corpus import stopwords\n",
        "from nltk.stem.snowball import SnowballStemmer\n",
        "import string"
      ],
      "metadata": {
        "id": "WpBTrM4bPF07",
        "colab": {
          "base_uri": "https://localhost:8080/"
        },
        "outputId": "f39e2cd9-1007-42ae-af98-33aaba73b5a8"
      },
      "execution_count": null,
      "outputs": [
        {
          "output_type": "stream",
          "name": "stdout",
          "text": [
            "[nltk_data] Downloading package stopwords to /root/nltk_data...\n",
            "[nltk_data]   Package stopwords is already up-to-date!\n"
          ]
        }
      ]
    }
  ]
}